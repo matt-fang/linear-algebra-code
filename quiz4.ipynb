{
 "cells": [
  {
   "cell_type": "markdown",
   "metadata": {},
   "source": [
    "# Homework #4\n",
    "(Quiz 5 work is further below)"
   ]
  },
  {
   "cell_type": "code",
   "execution_count": 67,
   "metadata": {},
   "outputs": [
    {
     "data": {
      "text/markdown": [
       "$$ \\begin{bmatrix}\n",
       "\\frac{58}{59} & \\frac{7}{59} & \\frac{-3}{59} \\\\\n",
       "\\frac{7}{59} & \\frac{10}{59} & \\frac{21}{59} \\\\\n",
       "\\frac{-3}{59} & \\frac{21}{59} & \\frac{50}{59}\n",
       "\\end{bmatrix} $$"
      ],
      "text/plain": [
       "<IPython.core.display.Markdown object>"
      ]
     },
     "metadata": {},
     "output_type": "display_data"
    }
   ],
   "source": [
    "from IPython.display import Markdown, display\n",
    "from fractions import Fraction\n",
    "import numpy as np\n",
    "\n",
    "A = Fraction(1, 59) * np.array ([[58, 7, -3],\n",
    "                      [7, 10, 21],\n",
    "                      [-3, 21, 50]])\n",
    "\n",
    "B = 2*A - np.eye(3, dtype=object)\n",
    "\n",
    "def print_fraction_matrix(matrix):\n",
    "    for row in matrix:\n",
    "        row_str = \"  \".join(str(x) for x in row)\n",
    "        print (\"[  \" + row_str + \"  ]\")\n",
    "        \n",
    "def show_latex_matrix(matrix, fraction=False):\n",
    "    lines = []\n",
    "    for row in matrix:\n",
    "        if fraction:\n",
    "            line = ' & '.join(f\"\\\\frac{{{x.numerator}}}{{{x.denominator}}}\" for x in row)\n",
    "        else:\n",
    "            line = ' & '.join(str(float(x)) for x in row)\n",
    "        lines.append(line)\n",
    "        \n",
    "    latex_str = \"\\\\begin{bmatrix}\\n\" + \" \\\\\\\\\\n\".join(lines) + \"\\n\\\\end{bmatrix}\"\n",
    "    display(Markdown(f\"$$ {latex_str} $$\"))\n",
    "\n",
    "show_latex_matrix(A, True)"
   ]
  },
  {
   "cell_type": "code",
   "execution_count": 68,
   "metadata": {},
   "outputs": [],
   "source": [
    "v1 = np.array([1, 1, 2])\n",
    "v2 = np.array([3, 0, -1])\n",
    "w_perp = np.array([1, -7, 3])\n",
    "\n",
    "eigenvectors = {\"v1\": v1, \"v2\": v2, \"w_perp\": w_perp}"
   ]
  },
  {
   "cell_type": "code",
   "execution_count": 69,
   "metadata": {},
   "outputs": [
    {
     "name": "stdout",
     "output_type": "stream",
     "text": [
      "projection and reflection of: v1\n"
     ]
    },
    {
     "data": {
      "text/markdown": [
       "$$ \\begin{bmatrix}\n",
       "1.0 & 1.0 & 2.0\n",
       "\\end{bmatrix} $$"
      ],
      "text/plain": [
       "<IPython.core.display.Markdown object>"
      ]
     },
     "metadata": {},
     "output_type": "display_data"
    },
    {
     "data": {
      "text/markdown": [
       "$$ \\begin{bmatrix}\n",
       "1.0 & 1.0 & 2.0\n",
       "\\end{bmatrix} $$"
      ],
      "text/plain": [
       "<IPython.core.display.Markdown object>"
      ]
     },
     "metadata": {},
     "output_type": "display_data"
    },
    {
     "name": "stdout",
     "output_type": "stream",
     "text": [
      "projection and reflection of: v2\n"
     ]
    },
    {
     "data": {
      "text/markdown": [
       "$$ \\begin{bmatrix}\n",
       "3.0 & 0.0 & -1.0\n",
       "\\end{bmatrix} $$"
      ],
      "text/plain": [
       "<IPython.core.display.Markdown object>"
      ]
     },
     "metadata": {},
     "output_type": "display_data"
    },
    {
     "data": {
      "text/markdown": [
       "$$ \\begin{bmatrix}\n",
       "3.0 & 0.0 & -1.0\n",
       "\\end{bmatrix} $$"
      ],
      "text/plain": [
       "<IPython.core.display.Markdown object>"
      ]
     },
     "metadata": {},
     "output_type": "display_data"
    },
    {
     "name": "stdout",
     "output_type": "stream",
     "text": [
      "projection and reflection of: w_perp\n"
     ]
    },
    {
     "data": {
      "text/markdown": [
       "$$ \\begin{bmatrix}\n",
       "0.0 & 0.0 & 0.0\n",
       "\\end{bmatrix} $$"
      ],
      "text/plain": [
       "<IPython.core.display.Markdown object>"
      ]
     },
     "metadata": {},
     "output_type": "display_data"
    },
    {
     "data": {
      "text/markdown": [
       "$$ \\begin{bmatrix}\n",
       "-1.0 & 7.0 & -3.0\n",
       "\\end{bmatrix} $$"
      ],
      "text/plain": [
       "<IPython.core.display.Markdown object>"
      ]
     },
     "metadata": {},
     "output_type": "display_data"
    }
   ],
   "source": [
    "for key in eigenvectors:\n",
    "    print(f\"projection and reflection of: {key}\")\n",
    "    show_latex_matrix(np.array([A @ eigenvectors[key]], dtype=object), False)\n",
    "    show_latex_matrix(np.array([B @ eigenvectors[key]], dtype=object), False)"
   ]
  },
  {
   "cell_type": "markdown",
   "metadata": {},
   "source": [
    "# 4c: IT WORKS!!!!"
   ]
  },
  {
   "cell_type": "code",
   "execution_count": null,
   "metadata": {},
   "outputs": [
    {
     "data": {
      "text/markdown": [
       "$$ \\begin{bmatrix}\n",
       "0.9830508474576272 & 0.11864406779661017 & -0.05084745762711865 \\\\\n",
       "0.11864406779661017 & 0.1694915254237288 & 0.3559322033898305 \\\\\n",
       "-0.05084745762711865 & 0.3559322033898305 & 0.847457627118644\n",
       "\\end{bmatrix} $$"
      ],
      "text/plain": [
       "<IPython.core.display.Markdown object>"
      ]
     },
     "metadata": {},
     "output_type": "display_data"
    },
    {
     "data": {
      "text/markdown": [
       "$$ \\begin{bmatrix}\n",
       "0.9830508474576272 & 0.11864406779661017 & -0.05084745762711865 \\\\\n",
       "0.11864406779661017 & 0.1694915254237288 & 0.3559322033898305 \\\\\n",
       "-0.05084745762711865 & 0.3559322033898305 & 0.847457627118644\n",
       "\\end{bmatrix} $$"
      ],
      "text/plain": [
       "<IPython.core.display.Markdown object>"
      ]
     },
     "metadata": {},
     "output_type": "display_data"
    },
    {
     "data": {
      "text/markdown": [
       "$$ \\begin{bmatrix}\n",
       "0.9830508474576272 & 0.11864406779661017 & -0.05084745762711865 \\\\\n",
       "0.11864406779661017 & 0.1694915254237288 & 0.3559322033898305 \\\\\n",
       "-0.05084745762711865 & 0.3559322033898305 & 0.847457627118644\n",
       "\\end{bmatrix} $$"
      ],
      "text/plain": [
       "<IPython.core.display.Markdown object>"
      ]
     },
     "metadata": {},
     "output_type": "display_data"
    },
    {
     "data": {
      "text/markdown": [
       "$$ \\begin{bmatrix}\n",
       "1.0 & 0.0 & 0.0 \\\\\n",
       "0.0 & 1.0 & 0.0 \\\\\n",
       "0.0 & 0.0 & 1.0\n",
       "\\end{bmatrix} $$"
      ],
      "text/plain": [
       "<IPython.core.display.Markdown object>"
      ]
     },
     "metadata": {},
     "output_type": "display_data"
    }
   ],
   "source": [
    "show_latex_matrix(A @ A)\n",
    "show_latex_matrix(A)\n",
    "\n",
    "show_latex_matrix(A @ B)\n",
    "show_latex_matrix(B @ B)"
   ]
  },
  {
   "cell_type": "markdown",
   "metadata": {},
   "source": [
    "# Quiz 5 x/c 1"
   ]
  },
  {
   "cell_type": "code",
   "execution_count": 71,
   "metadata": {},
   "outputs": [
    {
     "data": {
      "text/markdown": [
       "$$ \\begin{bmatrix}\n",
       "0.0 & 0.0 & 0.0 & 0.0 \\\\\n",
       "0.0 & 0.0 & 1.0 & 0.0 \\\\\n",
       "0.0 & -1.0 & 0.0 & 0.0 \\\\\n",
       "0.0 & 0.0 & 0.0 & 0.0 \\\\\n",
       "0.0 & 1.0 & 0.0 & 0.0 \\\\\n",
       "-1.0 & 0.0 & 0.0 & 1.0 \\\\\n",
       "0.0 & 0.0 & 0.0 & 0.0 \\\\\n",
       "0.0 & -1.0 & 0.0 & 0.0 \\\\\n",
       "0.0 & 0.0 & -1.0 & 0.0 \\\\\n",
       "0.0 & 0.0 & 0.0 & 0.0 \\\\\n",
       "1.0 & 0.0 & 0.0 & -1.0 \\\\\n",
       "0.0 & 0.0 & 1.0 & 0.0 \\\\\n",
       "0.0 & 0.0 & 0.0 & 0.0 \\\\\n",
       "0.0 & 0.0 & -1.0 & 0.0 \\\\\n",
       "0.0 & 1.0 & 0.0 & 0.0 \\\\\n",
       "0.0 & 0.0 & 0.0 & 0.0\n",
       "\\end{bmatrix} $$"
      ],
      "text/plain": [
       "<IPython.core.display.Markdown object>"
      ]
     },
     "metadata": {},
     "output_type": "display_data"
    },
    {
     "data": {
      "text/markdown": [
       "$$ \\begin{bmatrix}\n",
       "2.0 \\\\\n",
       "1.0 \\\\\n",
       "1.0 \\\\\n",
       "2.0\n",
       "\\end{bmatrix} $$"
      ],
      "text/plain": [
       "<IPython.core.display.Markdown object>"
      ]
     },
     "metadata": {},
     "output_type": "display_data"
    },
    {
     "data": {
      "text/markdown": [
       "$$ \\begin{bmatrix}\n",
       "0.0 & 1.0 & -1.0 & 0.0 \\\\\n",
       "1.0 & 0.0 & 0.0 & -1.0 \\\\\n",
       "-1.0 & 0.0 & 0.0 & 1.0 \\\\\n",
       "0.0 & -1.0 & 1.0 & 0.0\n",
       "\\end{bmatrix} $$"
      ],
      "text/plain": [
       "<IPython.core.display.Markdown object>"
      ]
     },
     "metadata": {},
     "output_type": "display_data"
    }
   ],
   "source": [
    "import numpy as np\n",
    "\n",
    "A_2 = np.array([[0, 0, 0, 0],\n",
    "                [0, 0, 1, 0],\n",
    "                [0, -1, 0, 0],\n",
    "                [0, 0, 0, 0],\n",
    "                [0, 1, 0, 0],\n",
    "                [-1, 0, 0, 1],\n",
    "                [0, 0, 0, 0],\n",
    "                [0, -1, 0, 0],\n",
    "                [0, 0, -1, 0],\n",
    "                [0, 0, 0, 0],\n",
    "                [1, 0, 0, -1],\n",
    "                [0, 0, 1, 0],\n",
    "                [0, 0, 0, 0],\n",
    "                [0, 0, -1, 0],\n",
    "                [0, 1, 0, 0],\n",
    "                [0, 0, 0, 0]])\n",
    "\n",
    "B_2 = np.array([2, 1, 1, 2]).reshape(4, 1)\n",
    "\n",
    "show_latex_matrix(A_2)\n",
    "show_latex_matrix(B_2)\n",
    "show_latex_matrix((A_2 @ B_2).reshape(4, 4))"
   ]
  },
  {
   "cell_type": "code",
   "execution_count": 72,
   "metadata": {},
   "outputs": [
    {
     "name": "stdout",
     "output_type": "stream",
     "text": [
      "Matrix([[0, -b2], [b3, 0]])\n"
     ]
    }
   ],
   "source": [
    "import sympy as sp\n",
    "\n",
    "# Define symbols\n",
    "a, b, c, d = sp.symbols('b1 b2 b3 b4')\n",
    "\n",
    "# Define symbolic matrix A and numeric matrix B\n",
    "B = sp.Matrix([[a, b], [c, d]])\n",
    "A = sp.Matrix([[0, 0], [0, 1]])\n",
    "\n",
    "# Multiply\n",
    "result = (A * B) - (B * A)\n",
    "\n",
    "# Get LaTeX\n",
    "print(result)"
   ]
  }
 ],
 "metadata": {
  "kernelspec": {
   "display_name": "base",
   "language": "python",
   "name": "python3"
  },
  "language_info": {
   "codemirror_mode": {
    "name": "ipython",
    "version": 3
   },
   "file_extension": ".py",
   "mimetype": "text/x-python",
   "name": "python",
   "nbconvert_exporter": "python",
   "pygments_lexer": "ipython3",
   "version": "3.10.9"
  }
 },
 "nbformat": 4,
 "nbformat_minor": 2
}
